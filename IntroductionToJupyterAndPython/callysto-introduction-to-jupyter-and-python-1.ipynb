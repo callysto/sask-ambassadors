{
 "cells": [
  {
   "cell_type": "markdown",
   "metadata": {},
   "source": [
    "![Callysto.ca Banner](https://github.com/callysto/curriculum-notebooks/blob/master/callysto-notebook-banner-top.jpg?raw=true)"
   ]
  },
  {
   "cell_type": "markdown",
   "metadata": {},
   "source": [
    "#### Play the video below to see a walk-through of this module."
   ]
  },
  {
   "cell_type": "code",
   "execution_count": 1,
   "metadata": {},
   "outputs": [
    {
     "data": {
      "image/jpeg": "[encoded data removed]",
      "text/html": [
       "\n",
       "        <iframe\n",
       "            width=\"400\"\n",
       "            height=\"300\"\n",
       "            src=\"https://www.youtube.com/embed/-rb_w6G1Cq0\"\n",
       "            frameborder=\"0\"\n",
       "            allowfullscreen\n",
       "        ></iframe>\n",
       "        "
      ],
      "text/plain": [
       "<IPython.lib.display.YouTubeVideo at 0x10cc4c940>"
      ]
     },
     "execution_count": 1,
     "metadata": {},
     "output_type": "execute_result"
    }
   ],
   "source": [
    "from IPython.display import YouTubeVideo\n",
    "YouTubeVideo('-rb_w6G1Cq0')"
   ]
  },
  {
   "cell_type": "markdown",
   "metadata": {},
   "source": [
    "# Callysto: Introduction to Jupyter and Python\n",
    "\n",
    "This Jupyter notebook contains some markdown cells (text and multimedia) and code cells (Python) to help get you started.\n",
    "\n",
    "This is a markdown cell, they are used for explanations and can contain *formatted* **text**.\n",
    "\n",
    "The following cell is a code cell, select it and click the `▶Run` button (in the toolbar above) to run the code."
   ]
  },
  {
   "cell_type": "code",
   "execution_count": null,
   "metadata": {},
   "outputs": [],
   "source": [
    "# This is a code cell, anything after a # character is a \"comment\" that is ignored by the computer\n",
    "# Run this cell by clicking on the Run button at the top, or by pressing ctrl-enter.\n",
    "\n",
    "print('Hello world')"
   ]
  },
  {
   "cell_type": "markdown",
   "metadata": {},
   "source": [
    "Code cells don't need to be complicated, run the following code cell to perform addition. After you've run it once, try changing the numbers and running it again."
   ]
  },
  {
   "cell_type": "code",
   "execution_count": null,
   "metadata": {},
   "outputs": [],
   "source": [
    "2 + 2"
   ]
  },
  {
   "cell_type": "markdown",
   "metadata": {},
   "source": [
    "## Variables\n",
    "\n",
    "We can declare a variable with an equals sign."
   ]
  },
  {
   "cell_type": "code",
   "execution_count": null,
   "metadata": {},
   "outputs": [],
   "source": [
    "x = 5\n",
    "second_number = 10\n",
    "\n",
    "add = x + second_number\n",
    "subtract = x - second_number\n",
    "multiply = x * second_number\n",
    "divide = x / second_number\n",
    "\n",
    "print(add, subtract, multiply, divide)"
   ]
  },
  {
   "cell_type": "markdown",
   "metadata": {},
   "source": [
    "## Loops\n",
    "\n",
    "Use the **for** command to start a loop, this one will run five times."
   ]
  },
  {
   "cell_type": "code",
   "execution_count": null,
   "metadata": {},
   "outputs": [],
   "source": [
    "for iterator in range(5):\n",
    "    print(iterator)"
   ]
  },
  {
   "cell_type": "markdown",
   "metadata": {},
   "source": [
    "## Lists\n",
    "\n",
    "A list is enclosed in square brackets."
   ]
  },
  {
   "cell_type": "code",
   "execution_count": null,
   "metadata": {},
   "outputs": [],
   "source": [
    "sharks = ['hammerhead', 'great white', 'tiger', 'frilled', 'bullhead', 'requiem']\n",
    "\n",
    "for shark in sharks:\n",
    "    print(shark)"
   ]
  },
  {
   "cell_type": "markdown",
   "metadata": {},
   "source": [
    "## If and Else\n",
    "\n",
    "Do something **if** a condition is true. We can also use **else** to do something if the condition is not true. In this case we are checking if a number **is equal** to three. Notice the double equals signs `==`."
   ]
  },
  {
   "cell_type": "code",
   "execution_count": null,
   "metadata": {},
   "outputs": [],
   "source": [
    "for i in range(7):\n",
    "    if i == 3:\n",
    "        print(i, \"is three\")\n",
    "    else:\n",
    "        print(i, \"is not three\")"
   ]
  },
  {
   "cell_type": "markdown",
   "metadata": {},
   "source": [
    "## Multimedia"
   ]
  },
  {
   "cell_type": "code",
   "execution_count": null,
   "metadata": {},
   "outputs": [],
   "source": [
    "# this is a code cell that imports a YouTube video from https://youtu.be/lRHsDJQobtM\n",
    "from IPython.display import YouTubeVideo\n",
    "YouTubeVideo('lRHsDJQobtM')"
   ]
  },
  {
   "cell_type": "markdown",
   "metadata": {},
   "source": [
    "## End of Part 1\n",
    "\n",
    "You have completed part 1 of the introduction to [Python](https://www.python.org/) and [Jupyter](https://jupyter.org/).\n",
    "\n",
    "For more information and examples, proceed to **[part 2](./callysto-introduction-to-jupyter-and-python-2.ipynb)**.\n",
    "\n",
    "You may also want to check out other resources at [Callysto.ca](https://callysto.ca/)."
   ]
  },
  {
   "cell_type": "markdown",
   "metadata": {},
   "source": [
    "[![Callysto.ca License](https://github.com/callysto/curriculum-notebooks/blob/master/callysto-notebook-banner-bottom.jpg?raw=true)](https://github.com/callysto/curriculum-notebooks/blob/master/LICENSE.md)"
   ]
  }
 ],
 "metadata": {
  "kernelspec": {
   "display_name": "Python 3",
   "language": "python",
   "name": "python3"
  },
  "language_info": {
   "codemirror_mode": {
    "name": "ipython",
    "version": 3
   },
   "file_extension": ".py",
   "mimetype": "text/x-python",
   "name": "python",
   "nbconvert_exporter": "python",
   "pygments_lexer": "ipython3",
   "version": "3.6.6"
  }
 },
 "nbformat": 4,
 "nbformat_minor": 2
}
