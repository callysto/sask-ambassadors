{
 "cells": [
  {
   "cell_type": "markdown",
   "metadata": {},
   "source": [
    "![Callysto.ca Banner](https://github.com/callysto/curriculum-notebooks/blob/master/callysto-notebook-banner-top.jpg?raw=true)"
   ]
  },
  {
   "cell_type": "markdown",
   "metadata": {},
   "source": [
    "#### Play the video below to see a walk-through of this module."
   ]
  },
  {
   "cell_type": "code",
   "execution_count": 1,
   "metadata": {},
   "outputs": [
    {
     "data": {
      "image/jpeg": "[encoded data removed]",
      "text/html": [
       "\n",
       "        <iframe\n",
       "            width=\"400\"\n",
       "            height=\"300\"\n",
       "            src=\"https://www.youtube.com/embed/rmFGMx34qVY\"\n",
       "            frameborder=\"0\"\n",
       "            allowfullscreen\n",
       "        ></iframe>\n",
       "        "
      ],
      "text/plain": [
       "<IPython.lib.display.YouTubeVideo at 0x10d835978>"
      ]
     },
     "execution_count": 1,
     "metadata": {},
     "output_type": "execute_result"
    }
   ],
   "source": [
    "from IPython.display import YouTubeVideo\n",
    "YouTubeVideo('rmFGMx34qVY')"
   ]
  },
  {
   "cell_type": "markdown",
   "metadata": {},
   "source": [
    "# Callysto: Introduction to Jupyter and Python\n",
    "## Part 2\n",
    "\n",
    "In [part 1](./callysto-introduction-to-jupyter-and-python-2.ipynb) you were introduced to markdown and code cells in a Jupyter notebook. Remember that clicking the `▶Run` button (in the toolbar above) will run a cell code.\n",
    "\n",
    "In this notebook we will see some more markdown examples, and program virtual turtles with Python code."
   ]
  },
  {
   "cell_type": "markdown",
   "metadata": {},
   "source": [
    "## Links and Tables\n",
    "\n",
    "We can display [links](https://en.wikipedia.org/wiki/Population_of_Canada#Canada_as_a_whole_since_confederation) and data tables using markdown.\n",
    "\n",
    "|Year|Population of Canada|\n",
    "|-|-|\n",
    "|1867|3463000|\n",
    "|1892|4883000|\n",
    "|1917|8060000|\n",
    "|1942|11654000|\n",
    "|1967|20500000|\n",
    "|1992|28377000|"
   ]
  },
  {
   "cell_type": "markdown",
   "metadata": {},
   "source": [
    "## LaTeX\n",
    "LaTeX a formatting language for equations and formulas. For example $ E = mc^2 $ or a more complicated $ R_{\\mu \\nu} - \\frac{1}{2} R g_{\\mu \\nu}   + \\Lambda g_{\\mu \\nu} \n",
    "= \\frac{8\\pi G}{c^4} T_{\\mu \\nu}$."
   ]
  },
  {
   "cell_type": "markdown",
   "metadata": {},
   "source": [
    "## Turtle Drawing\n",
    "\n",
    "Programming a virtual turtle is fun, and great for geometry and art."
   ]
  },
  {
   "cell_type": "code",
   "execution_count": null,
   "metadata": {},
   "outputs": [],
   "source": [
    "from mobilechelonian import Turtle\n",
    "t = Turtle()\n",
    "t.speed(7)\n",
    "t.forward(50)\n",
    "t.right(90)\n",
    "t.forward(50)"
   ]
  },
  {
   "cell_type": "markdown",
   "metadata": {},
   "source": [
    "### Turtle Commands\n",
    "\n",
    "`t.speed(integer)`\n",
    "Speed of your turtle, 1-10\n",
    "\n",
    "`t.penup()`\n",
    "`t.pendown()`\n",
    "For drawing lines or not\n",
    "\n",
    "`t.right(degrees)`\n",
    "`t.left(degrees)`\n",
    "Turn turtle left or right by some degree\n",
    "\n",
    "`t.forward(units)`\n",
    "`t.backward(units)`\n",
    "Move your turtle forward or backward\n",
    "\n",
    "`t.pencolor(“color”)`\n",
    "Color of your turtle’s line, e.g. 'blue' or 'rgb(100, 150, 45)'\n",
    "\n",
    "`t.setposition(x,y)`\n",
    "Move turtle to position x,y\n",
    "\n",
    "`t.circle(r, degrees)`\n",
    "Move through part of a circle of radius $r$ through some number of degrees"
   ]
  },
  {
   "cell_type": "markdown",
   "metadata": {},
   "source": [
    "Here is an example of a function, a loop, and generating random integers for color values."
   ]
  },
  {
   "cell_type": "code",
   "execution_count": null,
   "metadata": {},
   "outputs": [],
   "source": [
    "from random import randint\n",
    "t = Turtle()\n",
    "t.speed(10)\n",
    "\n",
    "def square(length):\n",
    "    for i in range(4):\n",
    "        t.forward(length)\n",
    "        t.right(90)\n",
    "\n",
    "for i in range(10):\n",
    "    red_value = str(randint(0, 255))\n",
    "    green_value = str(randint(0, 255))\n",
    "    blue_value = str(randint(0, 255))\n",
    "    color = 'rgb(' + red_value + ',' + green_value + ',' + blue_value + ')'\n",
    "    #color = 'rgb(100, 200, 100)'\n",
    "    t.pencolor(color)\n",
    "    square(75)\n",
    "    t.right(36)\n",
    "\n",
    "t.penup()\n",
    "t.forward(150)"
   ]
  },
  {
   "cell_type": "markdown",
   "metadata": {},
   "source": [
    "## End of Part 2\n",
    "\n",
    "You have now completed part 2. There's only one more notebook, **[part 3](./callysto-introduction-to-jupyter-and-python-3.ipynb)**."
   ]
  },
  {
   "cell_type": "markdown",
   "metadata": {},
   "source": [
    "[![Callysto.ca License](https://github.com/callysto/curriculum-notebooks/blob/master/callysto-notebook-banner-bottom.jpg?raw=true)](https://github.com/callysto/curriculum-notebooks/blob/master/LICENSE.md)"
   ]
  }
 ],
 "metadata": {
  "kernelspec": {
   "display_name": "Python 3",
   "language": "python",
   "name": "python3"
  },
  "language_info": {
   "codemirror_mode": {
    "name": "ipython",
    "version": 3
   },
   "file_extension": ".py",
   "mimetype": "text/x-python",
   "name": "python",
   "nbconvert_exporter": "python",
   "pygments_lexer": "ipython3",
   "version": "3.6.6"
  }
 },
 "nbformat": 4,
 "nbformat_minor": 2
}
